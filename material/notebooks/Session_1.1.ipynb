{
 "cells": [
  {
   "cell_type": "code",
   "execution_count": 2,
   "metadata": {},
   "outputs": [
    {
     "name": "stdout",
     "output_type": "stream",
     "text": [
      "Collecting git+https://github.com/millawell/bias-ml-dh.git#subdirectory=material/notebooks/bias_ml_dh_utils\n",
      "  Cloning https://github.com/millawell/bias-ml-dh.git to /private/var/folders/jp/c1yk1wvn6x58ftj04zg1z8680000gn/T/pip-req-build-3zdgzc63\n",
      "  Running command git clone -q https://github.com/millawell/bias-ml-dh.git /private/var/folders/jp/c1yk1wvn6x58ftj04zg1z8680000gn/T/pip-req-build-3zdgzc63\n",
      "^C\n",
      "Requirement already up-to-date: tqdm in /Users/davidlassner/Envs/wh4/lib/python3.7/site-packages (4.43.0)\n"
     ]
    }
   ],
   "source": [
    "!pip install git+https://github.com/millawell/bias-ml-dh.git#subdirectory=material/notebooks/bias_ml_dh_utils\n",
    "!pip install --upgrade tqdm"
   ]
  },
  {
   "cell_type": "code",
   "execution_count": 1,
   "metadata": {},
   "outputs": [],
   "source": [
    "%load_ext autoreload\n",
    "%autoreload 2\n",
    "\n",
    "import pandas as pd\n",
    "import spacy\n",
    "import numpy as np\n",
    "import torch as tr\n",
    "import matplotlib.pyplot as plt\n",
    "\n",
    "from sklearn.model_selection import train_test_split \n",
    "from sklearn.metrics import classification_report\n",
    "from collections import Counter\n",
    "from spacy.tokenizer import Tokenizer\n",
    "\n",
    "from bisect import bisect_left\n",
    "from tqdm.notebook import tqdm\n",
    "\n",
    "import torch.nn as nn\n",
    "import torch.nn.functional as F\n",
    "import torch.optim as optim\n",
    "import torch.utils.data\n",
    "\n",
    "import bias_ml_dh_utils as utils\n",
    "\n",
    "nlp = spacy.load(\"en_core_web_sm\")"
   ]
  },
  {
   "cell_type": "code",
   "execution_count": 10,
   "metadata": {},
   "outputs": [],
   "source": [
    "data_identifier = \"yelp_sentiment_english\"\n",
    "password = b\"dWaOtRaKsSeHtOsP\"\n",
    "embedding_identifier = \"glove.6B.50d\""
   ]
  },
  {
   "cell_type": "code",
   "execution_count": 12,
   "metadata": {},
   "outputs": [],
   "source": [
    "def load_data(data='yelp_sentiment_english'):\n",
    "    #loads data and feeds it into a data frame\n",
    "    \n",
    "    if data in(\"yelp_sentiment_englosh\",\"amazon_sentiment_engl\",\"imdb\"):\n",
    "        \n",
    "        path_to_data = utils.download_dataset(data, password)\n",
    "\n",
    "        df = pd.read_csv(path_to_data, names=['sentence', 'label'], sep='\\t')\n",
    "\n",
    "        sentences = df['sentence'].values\n",
    "        y = df['label'].values\n",
    "\n",
    "        df['spacified'] = list(nlp.pipe(df['sentence']))\n",
    "        df['lemmatized'] = df.spacified.apply(lambda doc: [t.lemma_ for t in doc])\n",
    "        cnts = Counter(l for doc in df.lemmatized for l in doc)\n",
    "        vocab = sorted([el[0] for el in cnts.items() if el[1] >= 10])\n",
    "        vocab.insert(0,\" \")\n",
    "\n",
    "        max_it = 40\n",
    "        \n",
    "    elif data==\"wikipedia\":\n",
    "        \n",
    "        path_to_data  = utils.download_dataset(data, password)\n",
    "        aggression_data = pd.read_pickle(path_to_data)\n",
    "\n",
    "        sentences = []\n",
    "        labels = []\n",
    "        for rev_id, rev in tqdm(agression_data.groupby(\"rev_id\")):\n",
    "            sentences.append(rev.iloc[0].comment)\n",
    "            labels.append(rev.aggression.sum()/len(rev) >.5)\n",
    "\n",
    "        with open(\"data/vocab.txt\") as fin:\n",
    "            vocab,_ = zip(*map(lambda x: x.split(\" \"), fin))\n",
    "            vocab = sorted(list(vocab) + [\"<unk>\"])  \n",
    "\n",
    "        max_it = 100\n",
    "        y = np.array(labels)\n",
    "        \n",
    "    else:\n",
    "        raise ValueError('data not known')\n",
    "        \n",
    "    return vocab, sentences, y, max_it"
   ]
  },
  {
   "cell_type": "code",
   "execution_count": 6,
   "metadata": {},
   "outputs": [],
   "source": [
    "def set_embedding_path(pretrained_embeddings='glove'):\n",
    "    #sets path to load embeddings later\n",
    "    \n",
    "    if pretrained_embeddings=='glove':\n",
    "\n",
    "        embedding_dim = 50\n",
    "        embedding_path = utils.download_dataset(\"glove.6B.50d\", password)\n",
    "\n",
    "    elif pretrained_embeddings=='all':\n",
    "        \n",
    "        embedding_dim = 32\n",
    "        embedding_path = \"data/all_comments_vec.txt\"\n",
    "        \n",
    "    elif pretrained_embeddings=='aggressive':\n",
    "        \n",
    "        embedding_dim = 32\n",
    "        embedding_path = \"data/aggressive_comments_vec.txt\"\n",
    "        \n",
    "    elif pretrained_embeddings=='non-aggressive':\n",
    "        \n",
    "        embedding_dim = 32\n",
    "        embedding_path = \"data/non_aggressive_comments_vec.txt\"\n",
    "        \n",
    "    return embedding_dim, embedding_path"
   ]
  },
  {
   "cell_type": "code",
   "execution_count": 5,
   "metadata": {},
   "outputs": [],
   "source": [
    "def prepare_data(data):\n",
    "    #loads data, extracts relevant data, pads data, train/validation/test split\n",
    "\n",
    "    vocab, sentences, y, max_it = load_data(data)\n",
    "    word_seq = utils.tokenize_data(sentences, vocab)\n",
    "    y = y[:word_seq.shape[0]]\n",
    "\n",
    "    max_row = utils.get_max_row(word_seq)\n",
    "\n",
    "    input_data = utils.data_padding(word_seq, np.min([max_row, 500]))\n",
    "    \n",
    "    x_train,x_test,y_train,y_test = train_test_split(\n",
    "                                                    input_data.numpy(), y,  \n",
    "                                                    test_size=0.2)\n",
    "\n",
    "    x_val,x_test,y_val,y_test = train_test_split(\n",
    "                                                    x_test, y_test,  \n",
    "                                                    test_size=0.5)\n",
    "    \n",
    "    return x_train, x_val, x_test, y_train, y_val, y_test, vocab, max_it"
   ]
  },
  {
   "cell_type": "code",
   "execution_count": 7,
   "metadata": {},
   "outputs": [],
   "source": [
    "def train_classifier(net, x_train, y_train, x_val, y_val, max_it=100):\n",
    "    \n",
    "    #sets optimizer and loss function\n",
    "    optimizer = optim.Adam(net.parameters(), lr=0.005)\n",
    "    criterion = nn.BCEWithLogitsLoss()\n",
    "\n",
    "\n",
    "    loss_hist = []\n",
    "    loss_val_hist = []\n",
    "\n",
    "    for it in range(max_it):\n",
    "\n",
    "        # zero the parameter gradients\n",
    "        optimizer.zero_grad()\n",
    "\n",
    "        # forward + backward + optimize\n",
    "        outputs = net(tr.from_numpy(x_train))\n",
    "        loss = criterion(outputs, tr.from_numpy(y_train[:,np.newaxis]).float())\n",
    "        loss.backward()\n",
    "        optimizer.step()\n",
    "\n",
    "        loss_hist.append(loss.detach())\n",
    "\n",
    "        if it%10==0 or it==(max_it-1):\n",
    "            print(\"training loss: \", loss_hist[-1])\n",
    "\n",
    "            outputs_val = net.forward(tr.from_numpy(x_val))\n",
    "            loss_val_hist.append(criterion(outputs_val, tr.from_numpy(y_val[:,np.newaxis]).float()).detach())\n",
    "\n",
    "            print(\"validation loss: \",loss_val_hist[-1])\n",
    "            \n",
    "    y_predict = (outputs_val.detach().numpy()>=0).astype(int).ravel()\n",
    "    print(classification_report(y_val, y_predict))\n",
    "\n",
    "    plt.plot(loss_hist)\n",
    "    plt.plot(np.arange(0,max_it+1,10),loss_val_hist)\n",
    "    plt.legend(['training_loss', 'validation_loss'])\n",
    "    plt.savefig('loss.png', dpi=300)\n",
    "    \n",
    "    outputs_val = net.forward(tr.from_numpy(x_test))\n",
    "    y_predict = (outputs_val.detach().numpy()>=0).astype(int).ravel()\n",
    "    print(classification_report(y_test, y_predict))\n",
    "            \n",
    "    return loss_hist, loss_val_hist, outputs_val"
   ]
  },
  {
   "cell_type": "code",
   "execution_count": 8,
   "metadata": {},
   "outputs": [],
   "source": [
    "def predict_label(input_data, label_names = ['negative','positive']):\n",
    "    #applies trained model to input_data and predicts the corresponding label\n",
    "    word_seq = utils.tokenize_data(input_data, vocab)\n",
    "    X = utils.data_padding(word_seq)\n",
    "    net.eval()\n",
    "    output = net.forward(X)\n",
    "    label = tr.clamp(tr.sign(output.detach()),0,1)\n",
    "    \n",
    "    print(\"The predicted label is: \",label_names[int(label)])\n",
    "    \n",
    "    return output.detach()"
   ]
  },
  {
   "cell_type": "code",
   "execution_count": 13,
   "metadata": {},
   "outputs": [
    {
     "ename": "ValueError",
     "evalue": "data not known",
     "output_type": "error",
     "traceback": [
      "\u001b[0;31m---------------------------------------------------------------------------\u001b[0m",
      "\u001b[0;31mValueError\u001b[0m                                Traceback (most recent call last)",
      "\u001b[0;32m<ipython-input-13-effadee32016>\u001b[0m in \u001b[0;36m<module>\u001b[0;34m\u001b[0m\n\u001b[1;32m      1\u001b[0m \u001b[0;31m#prepares train and test data\u001b[0m\u001b[0;34m\u001b[0m\u001b[0;34m\u001b[0m\u001b[0;34m\u001b[0m\u001b[0m\n\u001b[0;32m----> 2\u001b[0;31m \u001b[0mx_train\u001b[0m\u001b[0;34m,\u001b[0m \u001b[0mx_val\u001b[0m\u001b[0;34m,\u001b[0m \u001b[0mx_test\u001b[0m\u001b[0;34m,\u001b[0m \u001b[0my_train\u001b[0m\u001b[0;34m,\u001b[0m \u001b[0my_val\u001b[0m\u001b[0;34m,\u001b[0m \u001b[0my_test\u001b[0m\u001b[0;34m,\u001b[0m \u001b[0mvocab\u001b[0m\u001b[0;34m,\u001b[0m \u001b[0mmax_it\u001b[0m \u001b[0;34m=\u001b[0m \u001b[0mprepare_data\u001b[0m\u001b[0;34m(\u001b[0m\u001b[0;34m\"yelp_sentiment_english\"\u001b[0m\u001b[0;34m)\u001b[0m\u001b[0;34m\u001b[0m\u001b[0;34m\u001b[0m\u001b[0m\n\u001b[0m\u001b[1;32m      3\u001b[0m \u001b[0;34m\u001b[0m\u001b[0m\n\u001b[1;32m      4\u001b[0m \u001b[0membedding_dim\u001b[0m\u001b[0;34m,\u001b[0m \u001b[0membedding_path\u001b[0m \u001b[0;34m=\u001b[0m \u001b[0mset_embedding_path\u001b[0m\u001b[0;34m(\u001b[0m\u001b[0mpretrained_embeddings\u001b[0m\u001b[0;34m)\u001b[0m\u001b[0;34m\u001b[0m\u001b[0;34m\u001b[0m\u001b[0m\n\u001b[1;32m      5\u001b[0m embedding_matrix = utils.create_embedding_matrix(\n",
      "\u001b[0;32m<ipython-input-5-dcdde31f3297>\u001b[0m in \u001b[0;36mprepare_data\u001b[0;34m(data)\u001b[0m\n\u001b[1;32m      2\u001b[0m     \u001b[0;31m#loads data, extracts relevant data, pads data, train/validation/test split\u001b[0m\u001b[0;34m\u001b[0m\u001b[0;34m\u001b[0m\u001b[0;34m\u001b[0m\u001b[0m\n\u001b[1;32m      3\u001b[0m \u001b[0;34m\u001b[0m\u001b[0m\n\u001b[0;32m----> 4\u001b[0;31m     \u001b[0mvocab\u001b[0m\u001b[0;34m,\u001b[0m \u001b[0msentences\u001b[0m\u001b[0;34m,\u001b[0m \u001b[0my\u001b[0m\u001b[0;34m,\u001b[0m \u001b[0mmax_it\u001b[0m \u001b[0;34m=\u001b[0m \u001b[0mload_data\u001b[0m\u001b[0;34m(\u001b[0m\u001b[0mdata\u001b[0m\u001b[0;34m)\u001b[0m\u001b[0;34m\u001b[0m\u001b[0;34m\u001b[0m\u001b[0m\n\u001b[0m\u001b[1;32m      5\u001b[0m     \u001b[0mword_seq\u001b[0m \u001b[0;34m=\u001b[0m \u001b[0mutils\u001b[0m\u001b[0;34m.\u001b[0m\u001b[0mtokenize_data\u001b[0m\u001b[0;34m(\u001b[0m\u001b[0msentences\u001b[0m\u001b[0;34m,\u001b[0m \u001b[0mvocab\u001b[0m\u001b[0;34m)\u001b[0m\u001b[0;34m\u001b[0m\u001b[0;34m\u001b[0m\u001b[0m\n\u001b[1;32m      6\u001b[0m     \u001b[0my\u001b[0m \u001b[0;34m=\u001b[0m \u001b[0my\u001b[0m\u001b[0;34m[\u001b[0m\u001b[0;34m:\u001b[0m\u001b[0mword_seq\u001b[0m\u001b[0;34m.\u001b[0m\u001b[0mshape\u001b[0m\u001b[0;34m[\u001b[0m\u001b[0;36m0\u001b[0m\u001b[0;34m]\u001b[0m\u001b[0;34m]\u001b[0m\u001b[0;34m\u001b[0m\u001b[0;34m\u001b[0m\u001b[0m\n",
      "\u001b[0;32m<ipython-input-12-fb21250c0a7e>\u001b[0m in \u001b[0;36mload_data\u001b[0;34m(data)\u001b[0m\n\u001b[1;32m     38\u001b[0m \u001b[0;34m\u001b[0m\u001b[0m\n\u001b[1;32m     39\u001b[0m     \u001b[0;32melse\u001b[0m\u001b[0;34m:\u001b[0m\u001b[0;34m\u001b[0m\u001b[0;34m\u001b[0m\u001b[0m\n\u001b[0;32m---> 40\u001b[0;31m         \u001b[0;32mraise\u001b[0m \u001b[0mValueError\u001b[0m\u001b[0;34m(\u001b[0m\u001b[0;34m'data not known'\u001b[0m\u001b[0;34m)\u001b[0m\u001b[0;34m\u001b[0m\u001b[0;34m\u001b[0m\u001b[0m\n\u001b[0m\u001b[1;32m     41\u001b[0m \u001b[0;34m\u001b[0m\u001b[0m\n\u001b[1;32m     42\u001b[0m     \u001b[0;32mreturn\u001b[0m \u001b[0mvocab\u001b[0m\u001b[0;34m,\u001b[0m \u001b[0msentences\u001b[0m\u001b[0;34m,\u001b[0m \u001b[0my\u001b[0m\u001b[0;34m,\u001b[0m \u001b[0mmax_it\u001b[0m\u001b[0;34m\u001b[0m\u001b[0;34m\u001b[0m\u001b[0m\n",
      "\u001b[0;31mValueError\u001b[0m: data not known"
     ]
    }
   ],
   "source": [
    "#prepares train and test data\n",
    "x_train, x_val, x_test, y_train, y_val, y_test, vocab, max_it = prepare_data(\"yelp_sentiment_english\")\n",
    "\n",
    "embedding_dim, embedding_path = set_embedding_path(pretrained_embeddings)\n",
    "embedding_matrix = utils.create_embedding_matrix(\n",
    "    embedding_path,\n",
    "    vocab,  \n",
    "    embedding_dim)"
   ]
  },
  {
   "cell_type": "code",
   "execution_count": 45,
   "metadata": {},
   "outputs": [],
   "source": [
    " ## OWN\n",
    "class Net(nn.Module):\n",
    "    def __init__(self):\n",
    "        super(Net, self).__init__()  \n",
    "        filter_sizes = [1,2,3,5]\n",
    "        num_filters = 36\n",
    "        \n",
    "        #Embedding layer\n",
    "        self.embedding_layer = nn.Embedding(embedding_matrix.shape[0], embedding_dim)\n",
    "        self.embedding_layer.weight = nn.Parameter(tr.from_numpy(embedding_matrix).float())\n",
    "        self.embedding_layer.weight.requires_grad = False\n",
    "        \n",
    "        #Convolution layer\n",
    "        self.convolution_layer = nn.ModuleList([nn.Conv2d(1, num_filters, (K, embedding_dim)) for K in filter_sizes])\n",
    "        Ks = [nn.Conv2d(1, num_filters, (K, embedding_dim)) for K in filter_sizes]\n",
    "        self.dropout = nn.Dropout(0.1)\n",
    "        self.linear = nn.Linear(len(Ks)*num_filters, 1)\n",
    "        \n",
    "    def forward(self,x):\n",
    "        x = self.embedding_layer(x)\n",
    "        x = x.unsqueeze(1)  \n",
    "        x = [F.relu(conv(x)).squeeze(3) for conv in self.convolution_layer] \n",
    "        x = [F.max_pool1d(i, i.size(2)).squeeze(2) for i in x]  \n",
    "        x = tr.cat(x, 1)\n",
    "        x = self.dropout(x)\n",
    "        logit = self.linear(x)\n",
    "        return(logit)\n",
    "    \n",
    "net = Net()"
   ]
  },
  {
   "cell_type": "code",
   "execution_count": 46,
   "metadata": {},
   "outputs": [
    {
     "name": "stdout",
     "output_type": "stream",
     "text": [
      "training loss:  tensor(0.7051)\n",
      "validation loss:  tensor(0.6915)\n",
      "training loss:  tensor(0.5420)\n",
      "validation loss:  tensor(0.5526)\n",
      "training loss:  tensor(0.4253)\n",
      "validation loss:  tensor(0.4916)\n",
      "training loss:  tensor(0.3156)\n",
      "validation loss:  tensor(0.4963)\n",
      "training loss:  tensor(0.2281)\n",
      "validation loss:  tensor(0.5340)\n",
      "              precision    recall  f1-score   support\n",
      "\n",
      "           0       0.76      0.71      0.73        48\n",
      "           1       0.75      0.79      0.77        52\n",
      "\n",
      "    accuracy                           0.75       100\n",
      "   macro avg       0.75      0.75      0.75       100\n",
      "weighted avg       0.75      0.75      0.75       100\n",
      "\n",
      "              precision    recall  f1-score   support\n",
      "\n",
      "           0       0.73      0.67      0.70        48\n",
      "           1       0.71      0.77      0.74        52\n",
      "\n",
      "    accuracy                           0.72       100\n",
      "   macro avg       0.72      0.72      0.72       100\n",
      "weighted avg       0.72      0.72      0.72       100\n",
      "\n"
     ]
    },
    {
     "data": {
      "image/png": "[encoded data removed]",
      "text/plain": [
       "<Figure size 432x288 with 1 Axes>"
      ]
     },
     "metadata": {
      "needs_background": "light"
     },
     "output_type": "display_data"
    }
   ],
   "source": [
    "_ = train_classifier(net, x_train, y_train, x_val, y_val, max_it)"
   ]
  },
  {
   "cell_type": "code",
   "execution_count": 48,
   "metadata": {},
   "outputs": [
    {
     "name": "stderr",
     "output_type": "stream",
     "text": [
      "1it [00:00, 1773.49it/s]"
     ]
    },
    {
     "name": "stdout",
     "output_type": "stream",
     "text": [
      "The predicted label is:  negative\n"
     ]
    },
    {
     "name": "stderr",
     "output_type": "stream",
     "text": [
      "\n"
     ]
    }
   ],
   "source": [
    "#Try out new data!\n",
    "data = ['this movie was really bad']\n",
    "_ = predict_label(data)"
   ]
  }
 ],
 "metadata": {
  "kernelspec": {
   "display_name": "wh4",
   "language": "python",
   "name": "wh4"
  },
  "language_info": {
   "codemirror_mode": {
    "name": "ipython",
    "version": 3
   },
   "file_extension": ".py",
   "mimetype": "text/x-python",
   "name": "python",
   "nbconvert_exporter": "python",
   "pygments_lexer": "ipython3",
   "version": "3.7.5"
  }
 },
 "nbformat": 4,
 "nbformat_minor": 2
}
