{
 "cells": [
  {
   "cell_type": "code",
   "execution_count": null,
   "metadata": {},
   "outputs": [],
   "source": [
    "import pandas as pd\n",
    "import spacy\n",
    "import numpy as np\n",
    "import torch as tr\n",
    "import matplotlib.pyplot as plt\n",
    "\n",
    "from sklearn.model_selection import train_test_split   \n",
    "from collections import Counter\n",
    "from spacy.tokenizer import Tokenizer\n",
    "\n",
    "import torch.nn as nn\n",
    "import torch.nn.functional as F\n",
    "import torch.optim as optim\n",
    "import torch.utils.data\n",
    "\n",
    "path_glove = '/data/'"
   ]
  },
  {
   "cell_type": "code",
   "execution_count": null,
   "metadata": {},
   "outputs": [],
   "source": [
    "###load data\n",
    "path = \"./sentiment labelled sentences\"\n",
    "    \n",
    "filepath_dict = {'yelp': 'sentiment labelled sentences/yelp_labelled.txt' ,\n",
    "                 'amazon': 'sentiment labelled sentences/amazon_cells_labelled.txt',\n",
    "                 'imdb': 'sentiment labelled sentences/imdb_labelled.txt'}\n",
    "\n",
    "df_list = []\n",
    "    \n",
    "for source, filepath in filepath_dict.items():\n",
    "    df = pd.read_csv(filepath, names=['sentence', 'label'], sep='\\t')\n",
    "    # Add another column filled with the source name\n",
    "    df['source'] = source \n",
    "    df_list.append(df)\n",
    "    \n",
    "df = pd.concat(df_list)"
   ]
  },
  {
   "cell_type": "code",
   "execution_count": null,
   "metadata": {},
   "outputs": [],
   "source": [
    "### prepare data for training\n",
    "df_yelp = df[df['source'] == 'yelp']\n",
    "\n",
    "sentences = df_yelp['sentence'].values\n",
    "y = df_yelp['label'].values"
   ]
  },
  {
   "cell_type": "code",
   "execution_count": null,
   "metadata": {},
   "outputs": [],
   "source": [
    "### create embedding matrix\n",
    "def create_embedding_matrix(filepath, word_index, embedding_dim):\n",
    "    vocab_size = len(word_index) + 1  \n",
    "    # Adding again 1 because of reserved 0 index\n",
    "    embedding_matrix = tr.zeros((vocab_size, embedding_dim))\n",
    "\n",
    "    with open(filepath) as f:\n",
    "        for line in f:\n",
    "            word, *vector = line.split()\n",
    "            if word in word_index:\n",
    "                idx = word_index[word] \n",
    "                embedding_matrix[idx] = tr.from_numpy(np.array(\n",
    "                                        vector, dtype=np.float32))\n",
    "\n",
    "    return embedding_matrix"
   ]
  },
  {
   "cell_type": "code",
   "execution_count": null,
   "metadata": {},
   "outputs": [],
   "source": [
    "nlp = spacy.load(\"en_core_web_sm\")\n",
    "\n",
    "df_yelp['spacified'] = list(nlp.pipe(df_yelp['sentence']))\n",
    "df_yelp['lemmatized'] = df_yelp.spacified.apply(lambda doc: [t.lemma_ for t in doc])\n",
    "cnts = Counter(l for doc in df_yelp.lemmatized for l in doc)\n",
    "vocab, _ = zip(*[el for el in cnts.items() if el[1] >= 10])"
   ]
  },
  {
   "cell_type": "code",
   "execution_count": null,
   "metadata": {},
   "outputs": [],
   "source": [
    "word_index = dict()\n",
    "for token in vocab:\n",
    "    word_index[token] = vocab.index(token)+1"
   ]
  },
  {
   "cell_type": "code",
   "execution_count": null,
   "metadata": {},
   "outputs": [],
   "source": [
    "word_seq = np.empty((sentences.shape[0]),dtype=object)\n",
    "\n",
    "for idx, sen in enumerate(sentences):\n",
    "    doc = nlp(sen)\n",
    "    word_seq[idx] = []\n",
    "    for token in doc:\n",
    "        if(token.lemma_.lower() in vocab):\n",
    "            word_seq[idx].append(word_index[token.lemma_.lower()]) "
   ]
  },
  {
   "cell_type": "code",
   "execution_count": null,
   "metadata": {},
   "outputs": [],
   "source": [
    "embedding_dim = 50\n",
    "embedding_matrix = create_embedding_matrix(\n",
    "    '{}/glove.6B/glove.6B.{}d.txt'.format(path_glove, embedding_dim) ,\n",
    "                                            word_index,  \n",
    "                                            embedding_dim)"
   ]
  },
  {
   "cell_type": "code",
   "execution_count": null,
   "metadata": {},
   "outputs": [],
   "source": [
    "## OWN\n",
    "class Net(nn.Module):\n",
    "    def __init__(self):\n",
    "        super(Net, self).__init__()  \n",
    "        filter_sizes = [1,2,3,5]\n",
    "        num_filters = 36\n",
    "        \n",
    "        #Embedding layer\n",
    "        self.embedding_layer = nn.Embedding(embedding_matrix.shape[0], embedding_dim)\n",
    "        self.embedding_layer.weight = nn.Parameter(embedding_matrix)\n",
    "        self.embedding_layer.weight.requires_grad = False\n",
    "        \n",
    "        #Convolution layer\n",
    "        self.convolution_layer = nn.ModuleList([nn.Conv2d(1, num_filters, (K, embedding_dim)) for K in filter_sizes])\n",
    "        Ks = [nn.Conv2d(1, num_filters, (K, embedding_dim)) for K in filter_sizes]\n",
    "        self.dropout = nn.Dropout(0.1)\n",
    "        self.linear = nn.Linear(len(Ks)*num_filters, 1)\n",
    "        \n",
    "    def forward(self,x):\n",
    "        x = self.embedding_layer(x)\n",
    "        x = x.unsqueeze(1)  \n",
    "        x = [F.relu(conv(x)).squeeze(3) for conv in self.convolution_layer] \n",
    "        x = [F.max_pool1d(i, i.size(2)).squeeze(2) for i in x]  \n",
    "        x = tr.cat(x, 1)\n",
    "        x = self.dropout(x)\n",
    "        logit = self.linear(x)\n",
    "        return(logit)\n",
    "    \n",
    "net = Net()"
   ]
  },
  {
   "cell_type": "code",
   "execution_count": null,
   "metadata": {},
   "outputs": [],
   "source": [
    "max_len = 100\n",
    "input_data = tr.zeros([sentences.shape[0],max_len],dtype=tr.int64)\n",
    "for i in range(sentences.shape[0]):\n",
    "    input_data[i,:len(word_seq[i])] = tr.Tensor(word_seq[i][:max_len])"
   ]
  },
  {
   "cell_type": "code",
   "execution_count": null,
   "metadata": {},
   "outputs": [],
   "source": [
    "optimizer = optim.Adam(net.parameters(), lr=0.005)\n",
    "criterion = nn.BCEWithLogitsLoss()\n",
    "\n",
    "# input_data = tr.tensor(input_data)\n",
    "# labels = tr.from_numpy(y[:, np.newaxis])\n",
    "\n",
    "# get the inputs; data is a list of [inputs, labels]\n",
    "x_train,x_test,y_train,y_test = train_test_split(\n",
    "                                                input_data.numpy(), y,  \n",
    "                                                test_size=0.2)\n",
    "\n",
    "x_val,x_test,y_val,y_test = train_test_split(\n",
    "                                                x_test, y_test,  \n",
    "                                                test_size=0.5)\n",
    "\n",
    "\n",
    "loss_hist = []\n",
    "loss_val_hist = []\n",
    "\n",
    "for it in range(100):\n",
    "\n",
    "    # zero the parameter gradients\n",
    "    optimizer.zero_grad()\n",
    "\n",
    "    # forward + backward + optimize\n",
    "    outputs = net(tr.from_numpy(x_train))\n",
    "    loss = criterion(outputs, tr.from_numpy(y_train[:,np.newaxis]).float())\n",
    "    loss.backward()\n",
    "    optimizer.step()\n",
    "    \n",
    "    loss_hist.append(loss.detach())\n",
    "    \n",
    "    if it%10==0:\n",
    "        print(\"training loss: \", loss_hist[-1])\n",
    "        \n",
    "        outputs_val = net.forward(tr.from_numpy(x_val))\n",
    "        loss_val_hist.append(criterion(outputs_val, tr.from_numpy(y_val[:,np.newaxis]).float()).detach())\n",
    "        \n",
    "        print(\"validation loss: \",loss_val_hist[-1])"
   ]
  },
  {
   "cell_type": "code",
   "execution_count": null,
   "metadata": {},
   "outputs": [],
   "source": [
    "from sklearn.metrics import classification_report\n",
    "\n",
    "y_predict = (outputs_val.detach().numpy()>=0).astype(int).ravel()\n",
    "print(classification_report(y_val, y_predict))"
   ]
  },
  {
   "cell_type": "code",
   "execution_count": null,
   "metadata": {},
   "outputs": [],
   "source": [
    "plt.plot(loss_hist)\n",
    "plt.plot(np.arange(0,100,10),loss_val_hist)\n",
    "plt.legend(['training_loss', 'validation_loss'])\n",
    "plt.savefig('loss.png', dpi=300)"
   ]
  }
 ],
 "metadata": {
  "kernelspec": {
   "display_name": "Python 3",
   "language": "python",
   "name": "python3"
  },
  "language_info": {
   "codemirror_mode": {
    "name": "ipython",
    "version": 3
   },
   "file_extension": ".py",
   "mimetype": "text/x-python",
   "name": "python",
   "nbconvert_exporter": "python",
   "pygments_lexer": "ipython3",
   "version": "3.7.3"
  }
 },
 "nbformat": 4,
 "nbformat_minor": 2
}
