{
 "cells": [
  {
   "cell_type": "code",
   "execution_count": 16,
   "metadata": {},
   "outputs": [
    {
     "name": "stdout",
     "output_type": "stream",
     "text": [
      "Collecting git+https://github.com/millawell/bias-ml-dh.git#subdirectory=material/notebooks/bias_ml_dh_utils\n",
      "  Cloning https://github.com/millawell/bias-ml-dh.git to /private/var/folders/rz/nyzm_31n3d7f8mqgwyh_gtpr0000gp/T/pip-req-build-aumtg5a7\n",
      "  Running command git clone -q https://github.com/millawell/bias-ml-dh.git /private/var/folders/rz/nyzm_31n3d7f8mqgwyh_gtpr0000gp/T/pip-req-build-aumtg5a7\n",
      "Requirement already satisfied (use --upgrade to upgrade): bias-ml-dh-utils==0.1 from git+https://github.com/millawell/bias-ml-dh.git#subdirectory=material/notebooks/bias_ml_dh_utils in /usr/local/lib/python3.7/site-packages\n",
      "Building wheels for collected packages: bias-ml-dh-utils\n",
      "  Building wheel for bias-ml-dh-utils (setup.py) ... \u001b[?25ldone\n",
      "\u001b[?25h  Created wheel for bias-ml-dh-utils: filename=bias_ml_dh_utils-0.1-py3-none-any.whl size=2211 sha256=383c788a0a020f716ed1571d3db7b1606b4af73fc2dd9361038e4685ebd9a60d\n",
      "  Stored in directory: /private/var/folders/rz/nyzm_31n3d7f8mqgwyh_gtpr0000gp/T/pip-ephem-wheel-cache-ezhue1pz/wheels/d4/8d/af/a27ef01a2dc2a7313cfcbb128b906b77e986b55a6ebd3d52a7\n",
      "Successfully built bias-ml-dh-utils\n",
      "Requirement already up-to-date: tqdm in /usr/local/lib/python3.7/site-packages (4.43.0)\n"
     ]
    }
   ],
   "source": [
    "!pip install git+https://github.com/millawell/bias-ml-dh.git#subdirectory=material/notebooks/bias_ml_dh_utils\n",
    "!pip install --upgrade tqdm"
   ]
  },
  {
   "cell_type": "code",
   "execution_count": 17,
   "metadata": {},
   "outputs": [],
   "source": [
    "import pandas as pd\n",
    "import spacy\n",
    "import numpy as np\n",
    "import torch as tr\n",
    "import matplotlib.pyplot as plt\n",
    "\n",
    "from sklearn.model_selection import train_test_split \n",
    "from sklearn.metrics import classification_report\n",
    "from collections import Counter\n",
    "from spacy.tokenizer import Tokenizer\n",
    "\n",
    "from bisect import bisect_left\n",
    "from tqdm.notebook import tqdm\n",
    "\n",
    "import torch.nn as nn\n",
    "import torch.nn.functional as F\n",
    "import torch.optim as optim\n",
    "import torch.utils.data\n",
    "\n",
    "import bias_ml_dh_utils as utils\n",
    "\n",
    "nlp = spacy.load(\"en_core_web_sm\")"
   ]
  },
  {
   "cell_type": "code",
   "execution_count": 18,
   "metadata": {},
   "outputs": [],
   "source": [
    "#set paths and decide for data and pretrained word embeddings\n",
    "path_glove = './'\n",
    "\n",
    "data = 'yelp' #yelp, amazon, imdb, wikipedia\n",
    "pretrained_embeddings = 'glove' #aggressive, non-aggressive, all, glove"
   ]
  },
  {
   "cell_type": "code",
   "execution_count": 19,
   "metadata": {},
   "outputs": [],
   "source": [
    "def load_data(data='yelp'):\n",
    "    #loads data and feeds it into a data frame\n",
    "    \n",
    "    \n",
    "    if data in(\"yelp\",\"amazon\",\"imdb\"):\n",
    "\n",
    "        filepath_dict = {'yelp': './data/yelp_labelled.txt' ,\n",
    "                         'amazon': './data/amazon_cells_labelled.txt',\n",
    "                         'imdb': './data/imdb_labelled.txt'}\n",
    "\n",
    "        df_list = []\n",
    "\n",
    "        df = pd.read_csv(filepath_dict[data], names=['sentence', 'label'], sep='\\t')\n",
    "\n",
    "        sentences = df['sentence'].values\n",
    "        y = df['label'].values\n",
    "\n",
    "        df['spacified'] = list(nlp.pipe(df['sentence']))\n",
    "        df['lemmatized'] = df.spacified.apply(lambda doc: [t.lemma_ for t in doc])\n",
    "        cnts = Counter(l for doc in df.lemmatized for l in doc)\n",
    "        vocab = sorted([el[0] for el in cnts.items() if el[1] >= 10])\n",
    "        vocab.insert(0,\" \")\n",
    "\n",
    "        max_it = 40\n",
    "        \n",
    "    elif data==\"wikipedia\":\n",
    "        \n",
    "        aggression_annotated_comments = pd.read_csv(\"data/aggression_annotated_comments.tsv\", sep=\"\\t\")\n",
    "        agression_annotation = pd.read_csv(\"data/agression_annotation.tsv\", sep=\"\\t\")\n",
    "\n",
    "        agression_data = pd.merge(aggression_annotated_comments, agression_annotation, on=\"rev_id\")\n",
    "\n",
    "        sentences = []\n",
    "        labels = []\n",
    "        for rev_id, rev in tqdm(agression_data.groupby(\"rev_id\")):\n",
    "            sentences.append(rev.iloc[0].comment)\n",
    "            labels.append(rev.aggression.sum()/len(rev) >.5)\n",
    "\n",
    "        with open(\"data/vocab.txt\") as fin:\n",
    "            vocab,_ = zip(*map(lambda x: x.split(\" \"), fin))\n",
    "            vocab = sorted(list(vocab) + [\"<unk>\"])  \n",
    "\n",
    "        max_it = 100\n",
    "        y = np.array(labels)\n",
    "        \n",
    "    else:\n",
    "        raise ValueError('data not known')\n",
    "        \n",
    "    return vocab, sentences, y, max_it"
   ]
  },
  {
   "cell_type": "code",
   "execution_count": 20,
   "metadata": {},
   "outputs": [],
   "source": [
    "def set_embedding_path(pretrained_embeddings='glove'):\n",
    "    #sets path to load embeddings later\n",
    "    \n",
    "    if pretrained_embeddings=='glove':\n",
    "\n",
    "        embedding_dim = 50\n",
    "        embedding_path = '{}/glove.6B/glove.6B.{}d.txt'.format(path_glove, embedding_dim)\n",
    "\n",
    "    elif pretrained_embeddings=='all':\n",
    "        \n",
    "        embedding_dim = 32\n",
    "        embedding_path = \"data/all_comments_vec.txt\"\n",
    "        \n",
    "    elif pretrained_embeddings=='aggressive':\n",
    "        \n",
    "        embedding_dim = 32\n",
    "        embedding_path = \"data/aggressive_comments_vec.txt\"\n",
    "        \n",
    "    elif pretrained_embeddings=='non-aggressive':\n",
    "        \n",
    "        embedding_dim = 32\n",
    "        embedding_path = \"data/non_aggressive_comments_vec.txt\"\n",
    "        \n",
    "    return embedding_dim, embedding_path\n",
    "\n",
    "def get_max_row(word_seq):\n",
    "    #returns the longest row to decide on padding\n",
    "\n",
    "    max_row = 0\n",
    "    for irow, row in enumerate(word_seq):\n",
    "        if len(row) > max_row:\n",
    "            max_row = len(row)\n",
    "            \n",
    "    return max_row"
   ]
  },
  {
   "cell_type": "code",
   "execution_count": 21,
   "metadata": {},
   "outputs": [],
   "source": [
    "def prepare_data(data):\n",
    "    #loads data, extracts relevant data, pads data, train/validation/test split\n",
    "\n",
    "    vocab, sentences, y, max_it = load_data(data)\n",
    "    word_seq = utils.tokenize_data(sentences, vocab)\n",
    "    y = y[:word_seq.shape[0]]\n",
    "\n",
    "    max_row = get_max_row(word_seq)\n",
    "\n",
    "    input_data = utils.data_padding(word_seq, np.min([max_row, 500]))\n",
    "    \n",
    "    x_train,x_test,y_train,y_test = train_test_split(\n",
    "                                                    input_data.numpy(), y,  \n",
    "                                                    test_size=0.2)\n",
    "\n",
    "    x_val,x_test,y_val,y_test = train_test_split(\n",
    "                                                    x_test, y_test,  \n",
    "                                                    test_size=0.5)\n",
    "    \n",
    "    return x_train, x_val, x_test, y_train, y_val, y_test, vocab, max_it"
   ]
  },
  {
   "cell_type": "code",
   "execution_count": 22,
   "metadata": {},
   "outputs": [],
   "source": [
    "def train_classifier(net, x_train, y_train, x_val, y_val, max_it=100):\n",
    "    \n",
    "    #sets optimizer and loss function\n",
    "    optimizer = optim.Adam(net.parameters(), lr=0.005)\n",
    "    criterion = nn.BCEWithLogitsLoss()\n",
    "\n",
    "\n",
    "    loss_hist = []\n",
    "    loss_val_hist = []\n",
    "\n",
    "    for it in range(max_it):\n",
    "\n",
    "        # zero the parameter gradients\n",
    "        optimizer.zero_grad()\n",
    "\n",
    "        # forward + backward + optimize\n",
    "        outputs = net(tr.from_numpy(x_train))\n",
    "        loss = criterion(outputs, tr.from_numpy(y_train[:,np.newaxis]).float())\n",
    "        loss.backward()\n",
    "        optimizer.step()\n",
    "\n",
    "        loss_hist.append(loss.detach())\n",
    "\n",
    "        if it%10==0 or it==(max_it-1):\n",
    "            print(\"training loss: \", loss_hist[-1])\n",
    "\n",
    "            outputs_val = net.forward(tr.from_numpy(x_val))\n",
    "            loss_val_hist.append(criterion(outputs_val, tr.from_numpy(y_val[:,np.newaxis]).float()).detach())\n",
    "\n",
    "            print(\"validation loss: \",loss_val_hist[-1])\n",
    "            \n",
    "    y_predict = (outputs_val.detach().numpy()>=0).astype(int).ravel()\n",
    "    print(classification_report(y_val, y_predict))\n",
    "\n",
    "    plt.plot(loss_hist)\n",
    "    plt.plot(np.arange(0,max_it+1,10),loss_val_hist)\n",
    "    plt.legend(['training_loss', 'validation_loss'])\n",
    "    plt.savefig('loss.png', dpi=300)\n",
    "    \n",
    "    outputs_val = net.forward(tr.from_numpy(x_test))\n",
    "    y_predict = (outputs_val.detach().numpy()>=0).astype(int).ravel()\n",
    "    print(classification_report(y_test, y_predict))\n",
    "            \n",
    "    return loss_hist, loss_val_hist, outputs_val"
   ]
  },
  {
   "cell_type": "code",
   "execution_count": 23,
   "metadata": {},
   "outputs": [],
   "source": [
    "def predict_label(input_data, label_names = ['negative','positive']):\n",
    "    #applies trained model to input_data and predicts the corresponding label\n",
    "    word_seq = utils.tokenize_data(input_data, vocab)\n",
    "    X = utils.data_padding(word_seq)\n",
    "    net.eval()\n",
    "    output = net.forward(X)\n",
    "    label = tr.clamp(tr.sign(output.detach()),0,1)\n",
    "    \n",
    "    print(\"The predicted label is: \",label_names[int(label)])\n",
    "    \n",
    "    return output.detach()"
   ]
  },
  {
   "cell_type": "code",
   "execution_count": 24,
   "metadata": {},
   "outputs": [
    {
     "name": "stderr",
     "output_type": "stream",
     "text": [
      "1000it [00:00, 4083.25it/s]\n",
      "400000it [00:06, 57488.53it/s]\n"
     ]
    }
   ],
   "source": [
    "#prepares train and test data\n",
    "x_train, x_val, x_test, y_train, y_val, y_test, vocab, max_it = prepare_data(data)\n",
    "\n",
    "embedding_dim, embedding_path = set_embedding_path(pretrained_embeddings)\n",
    "embedding_matrix = utils.create_embedding_matrix(\n",
    "    embedding_path,\n",
    "    vocab,  \n",
    "    embedding_dim)"
   ]
  },
  {
   "cell_type": "code",
   "execution_count": 25,
   "metadata": {},
   "outputs": [],
   "source": [
    " ## OWN\n",
    "class Net(nn.Module):\n",
    "    def __init__(self):\n",
    "        super(Net, self).__init__()  \n",
    "        filter_sizes = [1,2,3,5]\n",
    "        num_filters = 36\n",
    "        \n",
    "        #Embedding layer\n",
    "        self.embedding_layer = nn.Embedding(embedding_matrix.shape[0], embedding_dim)\n",
    "        self.embedding_layer.weight = nn.Parameter(tr.from_numpy(embedding_matrix).float())\n",
    "        self.embedding_layer.weight.requires_grad = False\n",
    "        \n",
    "        #Convolution layer\n",
    "        self.convolution_layer = nn.ModuleList([nn.Conv2d(1, num_filters, (K, embedding_dim)) for K in filter_sizes])\n",
    "        Ks = [nn.Conv2d(1, num_filters, (K, embedding_dim)) for K in filter_sizes]\n",
    "        self.dropout = nn.Dropout(0.1)\n",
    "        self.linear = nn.Linear(len(Ks)*num_filters, 1)\n",
    "        \n",
    "    def forward(self,x):\n",
    "        x = self.embedding_layer(x)\n",
    "        x = x.unsqueeze(1)  \n",
    "        x = [F.relu(conv(x)).squeeze(3) for conv in self.convolution_layer] \n",
    "        x = [F.max_pool1d(i, i.size(2)).squeeze(2) for i in x]  \n",
    "        x = tr.cat(x, 1)\n",
    "        x = self.dropout(x)\n",
    "        logit = self.linear(x)\n",
    "        return(logit)\n",
    "    \n",
    "net = Net()"
   ]
  },
  {
   "cell_type": "code",
   "execution_count": 26,
   "metadata": {},
   "outputs": [
    {
     "name": "stdout",
     "output_type": "stream",
     "text": [
      "training loss:  tensor(0.6926)\n",
      "validation loss:  tensor(0.6695)\n",
      "training loss:  tensor(0.5340)\n",
      "validation loss:  tensor(0.6614)\n",
      "training loss:  tensor(0.4226)\n",
      "validation loss:  tensor(0.6223)\n",
      "training loss:  tensor(0.3160)\n",
      "validation loss:  tensor(0.5876)\n",
      "training loss:  tensor(0.2243)\n",
      "validation loss:  tensor(0.5594)\n",
      "              precision    recall  f1-score   support\n",
      "\n",
      "           0       0.62      0.64      0.63        45\n",
      "           1       0.70      0.67      0.69        55\n",
      "\n",
      "    accuracy                           0.66       100\n",
      "   macro avg       0.66      0.66      0.66       100\n",
      "weighted avg       0.66      0.66      0.66       100\n",
      "\n",
      "              precision    recall  f1-score   support\n",
      "\n",
      "           0       0.85      0.76      0.80        54\n",
      "           1       0.75      0.85      0.80        46\n",
      "\n",
      "    accuracy                           0.80       100\n",
      "   macro avg       0.80      0.80      0.80       100\n",
      "weighted avg       0.81      0.80      0.80       100\n",
      "\n"
     ]
    },
    {
     "data": {
      "image/png": "[encoded data removed]",
      "text/plain": [
       "<Figure size 432x288 with 1 Axes>"
      ]
     },
     "metadata": {
      "needs_background": "light"
     },
     "output_type": "display_data"
    }
   ],
   "source": [
    "_ = train_classifier(net, x_train, y_train, x_val, y_val, max_it)"
   ]
  },
  {
   "cell_type": "code",
   "execution_count": 27,
   "metadata": {},
   "outputs": [
    {
     "name": "stderr",
     "output_type": "stream",
     "text": [
      "1it [00:00, 84.97it/s]"
     ]
    },
    {
     "name": "stdout",
     "output_type": "stream",
     "text": [
      "The predicted label is:  positive\n",
      "tensor([[2.8226]])\n"
     ]
    },
    {
     "name": "stderr",
     "output_type": "stream",
     "text": [
      "\n"
     ]
    }
   ],
   "source": [
    "#Try out new data!\n",
    "data = ['this movie was really good']\n",
    "output = predict_label(data)\n",
    "print(output)"
   ]
  }
 ],
 "metadata": {
  "kernelspec": {
   "display_name": "Python 3",
   "language": "python",
   "name": "python3"
  },
  "language_info": {
   "codemirror_mode": {
    "name": "ipython",
    "version": 3
   },
   "file_extension": ".py",
   "mimetype": "text/x-python",
   "name": "python",
   "nbconvert_exporter": "python",
   "pygments_lexer": "ipython3",
   "version": "3.7.6"
  }
 },
 "nbformat": 4,
 "nbformat_minor": 2
}
